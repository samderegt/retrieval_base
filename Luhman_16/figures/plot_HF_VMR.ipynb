{
 "cells": [
  {
   "cell_type": "code",
   "execution_count": 1,
   "metadata": {},
   "outputs": [],
   "source": [
    "import pyfastchem as pyfc\n",
    "import os\n",
    "import petitRADTRANS.nat_cst as nc\n",
    "\n",
    "import numpy as np\n",
    "import matplotlib.pyplot as plt\n",
    "import matplotlib.patheffects as pe\n",
    "\n",
    "\n",
    "from tqdm import tqdm"
   ]
  },
  {
   "cell_type": "code",
   "execution_count": 2,
   "metadata": {},
   "outputs": [],
   "source": [
    "class FastChemistry():\n",
    "\n",
    "    def __init__(self, pressures):\n",
    "\n",
    "        self.pressures = pressures\n",
    "\n",
    "        pyfc_path = os.path.dirname(pyfc.__file__)\n",
    "        self.element_file   = f'{pyfc_path}/input/element_abundances/asplund_2020_extended.dat'\n",
    "        self.logK_gas_file  = f'{pyfc_path}/input/logK/logK_extended.dat'\n",
    "        self.logK_cond_file = f'{pyfc_path}/input/logK/logK_condensates.dat'\n",
    "\n",
    "        self.fastchem = pyfc.FastChem(\n",
    "            self.element_file, self.logK_gas_file, self.logK_cond_file, 1\n",
    "            )\n",
    "\n",
    "        # Create in/out-put structures for FastChem\n",
    "        self.input = pyfc.FastChemInput()\n",
    "        self.input.pressure = self.pressures[::-1] # Flip to decrease\n",
    "\n",
    "        self.output = pyfc.FastChemOutput()\n",
    "\n",
    "        # Use equilibrium condensation\n",
    "        self.input.equilibrium_condensation = True\n",
    "        # Use rainout condensation approach\n",
    "        self.input.rainout_condensation     = True\n",
    "        #self.input.rainout_condensation     = False\n",
    "\n",
    "        # Configure FastChem's internal parameters\n",
    "        self.fastchem.setParameter('accuracyChem', 1e-6)\n",
    "        self.fastchem.setParameter('accuracyElementConservation', 1e-6)\n",
    "        #self.fastchem.setParameter('accuracyNewton', 1e-5)\n",
    "        \n",
    "        self.fastchem.setParameter('nbIterationsChem', 100000)\n",
    "        #self.fastchem.setParameter('nbIterationsNewton', 10000)\n",
    "        #self.fastchem.setParameter('nbIterationsNelderMead', 10000)\n",
    "\n",
    "        # ------------------------------------------------------------------\n",
    "\n",
    "        # Make a copy of the solar abundances from FastChem\n",
    "        self.solar_abundances = np.array(self.fastchem.getElementAbundances())\n",
    "\n",
    "        # Indices of carbon-bearing species\n",
    "        self.index_C = np.array(self.fastchem.getElementIndex('C'))\n",
    "        self.index_O = np.array(self.fastchem.getElementIndex('O'))\n",
    "\n",
    "        # Compute the solar C/O ratio\n",
    "        self.CO_solar = self.solar_abundances[self.index_C] / \\\n",
    "            self.solar_abundances[self.index_O]\n",
    "\n",
    "        # Indices of H/He-bearing species\n",
    "        index_H  = np.array(self.fastchem.getElementIndex('H'))\n",
    "        index_He = np.array(self.fastchem.getElementIndex('He'))\n",
    "\n",
    "        self.mask_metal = np.ones_like(self.solar_abundances, dtype=bool)\n",
    "        self.mask_metal[index_H]  = False\n",
    "        self.mask_metal[index_He] = False\n",
    "\n",
    "    def get_VMR(self, species_i):\n",
    "        index = self.fastchem.getGasSpeciesIndex(species_i)\n",
    "        return self.VMR[:,index]\n",
    "    \n",
    "    def get_condensate_number_density(self, species_i):\n",
    "        index = self.fastchem.getCondSpeciesIndex(species_i)\n",
    "        return np.array(self.output.number_densities_cond)[::-1,index]\n",
    "    \n",
    "    def get_element_number_density(self, element_i):\n",
    "        \n",
    "        gas_indices = [self.fastchem.getGasSpeciesIndex(element_i)]\n",
    "        cond_indices = []\n",
    "\n",
    "        with open(self.logK_gas_file, 'r') as fp:\n",
    "            for line in fp:\n",
    "                if f' {element_i} ' in line:\n",
    "                    species_i = line.split(' ')[0]\n",
    "                    index_i   = self.fastchem.getGasSpeciesIndex(species_i)\n",
    "\n",
    "                    gas_indices.append(index_i)\n",
    "\n",
    "        with open(self.logK_cond_file, 'r') as fp:\n",
    "            for line in fp:\n",
    "                if f' {element_i} ' in line:\n",
    "                    species_i = line.split(' ')[0]\n",
    "                    index_i   = self.fastchem.getCondSpeciesIndex(species_i)\n",
    "\n",
    "                    cond_indices.append(index_i)\n",
    "                    \n",
    "        gas_tot = np.sum(\n",
    "            np.array(self.output.number_densities)[:,gas_indices], axis=1\n",
    "        )\n",
    "        cond_tot = np.sum(\n",
    "            np.array(self.output.number_densities_cond)[:,cond_indices], axis=1\n",
    "        )\n",
    "\n",
    "        return gas_tot + cond_tot\n",
    "\n",
    "    def __call__(self, T, CO, FeH):\n",
    "\n",
    "        temperature = T * np.ones_like(self.pressures)\n",
    "        if (temperature < 150).any():\n",
    "            print('Replaced T<150 with T=150 K')\n",
    "            temperature[temperature<150] = 150\n",
    "\n",
    "        self.input.temperature = temperature[::-1] # Flip for FastChem usage\n",
    "\n",
    "        # Make a copy to modify the elemental abundances\n",
    "        element_abundances = self.solar_abundances.copy()\n",
    "        metallicity_wrt_solar = 10**FeH\n",
    "\n",
    "        # Apply C/O ratio and Fe/H to elemental abundances\n",
    "        CO_correction = (1 + element_abundances[self.index_C]/element_abundances[self.index_O]) / (1+CO)\n",
    "\n",
    "        element_abundances[self.index_C] = element_abundances[self.index_O] * CO\n",
    "        \n",
    "        element_abundances[self.index_C] *= CO_correction\n",
    "        element_abundances[self.index_O] *= CO_correction\n",
    "\n",
    "        element_abundances[self.mask_metal] *= metallicity_wrt_solar\n",
    "\n",
    "        # Update the element abundances\n",
    "        self.fastchem.setElementAbundances(element_abundances)\n",
    "\n",
    "        # Compute the number densities\n",
    "        fastchem_flag = self.fastchem.calcDensities(self.input, self.output)\n",
    "\n",
    "        if fastchem_flag != 0:\n",
    "            # FastChem failed to converge\n",
    "            print('Failed to converge')\n",
    "        if np.amin(self.output.element_conserved) != 1:\n",
    "            # Failed element conservation\n",
    "            print('Failed element conservation')\n",
    "\n",
    "        # Compute the volume-mixing ratio of all species\n",
    "        self.gas_number_density_tot = np.array(self.input.pressure)*1e6 / \\\n",
    "            (nc.kB * np.array(self.input.temperature))\n",
    "        gas_number_density     = np.array(self.output.number_densities)\n",
    "\n",
    "        self.VMR = gas_number_density / self.gas_number_density_tot[:,None]\n",
    "        self.VMR = self.VMR[::-1] # Flip back"
   ]
  },
  {
   "cell_type": "code",
   "execution_count": 3,
   "metadata": {},
   "outputs": [
    {
     "name": "stderr",
     "output_type": "stream",
     "text": [
      "  0%|          | 0/6 [00:00<?, ?it/s]"
     ]
    },
    {
     "name": "stderr",
     "output_type": "stream",
     "text": [
      " 17%|█▋        | 1/6 [00:05<00:25,  5.08s/it]"
     ]
    },
    {
     "name": "stdout",
     "output_type": "stream",
     "text": [
      "Stoichiometry of species Tc1+ incomplete. Neglected!\n",
      "Stoichiometry of species Tc1- incomplete. Neglected!\n",
      "Stoichiometry of species Tc1++ incomplete. Neglected!\n",
      "\n",
      "FastChem initialisation summary:\n",
      "  number of species: 938    elements: 80    molecules: 672    condensates: 186\n",
      "\n",
      "Stoichiometry of species Tc1+ incomplete. Neglected!\n"
     ]
    },
    {
     "name": "stderr",
     "output_type": "stream",
     "text": [
      " 33%|███▎      | 2/6 [00:09<00:18,  4.57s/it]"
     ]
    },
    {
     "name": "stdout",
     "output_type": "stream",
     "text": [
      "Stoichiometry of species Tc1- incomplete. Neglected!\n",
      "Stoichiometry of species Tc1++ incomplete. Neglected!\n",
      "\n",
      "FastChem initialisation summary:\n",
      "  number of species: 938    elements: 80    molecules: 672    condensates: 186\n",
      "\n",
      "Stoichiometry of species Tc1+ incomplete. Neglected!\n"
     ]
    },
    {
     "name": "stderr",
     "output_type": "stream",
     "text": [
      " 50%|█████     | 3/6 [00:15<00:15,  5.28s/it]"
     ]
    },
    {
     "name": "stdout",
     "output_type": "stream",
     "text": [
      "Stoichiometry of species Tc1- incomplete. Neglected!\n",
      "Stoichiometry of species Tc1++ incomplete. Neglected!\n",
      "\n",
      "FastChem initialisation summary:\n",
      "  number of species: 938    elements: 80    molecules: 672    condensates: 186\n",
      "\n",
      "Stoichiometry of species Tc1+ incomplete. Neglected!\n",
      "Stoichiometry of species Tc1- incomplete. Neglected!\n",
      "Stoichiometry of species Tc1++ incomplete. Neglected!\n"
     ]
    },
    {
     "name": "stderr",
     "output_type": "stream",
     "text": [
      " 67%|██████▋   | 4/6 [00:29<00:17,  8.94s/it]"
     ]
    },
    {
     "name": "stdout",
     "output_type": "stream",
     "text": [
      "\n",
      "FastChem initialisation summary:\n",
      "  number of species: 938    elements: 80    molecules: 672    condensates: 186\n",
      "\n",
      "Stoichiometry of species Tc1+ incomplete. Neglected!\n",
      "Stoichiometry of species Tc1-"
     ]
    },
    {
     "name": "stderr",
     "output_type": "stream",
     "text": [
      " 83%|████████▎ | 5/6 [00:33<00:06,  6.99s/it]"
     ]
    },
    {
     "name": "stdout",
     "output_type": "stream",
     "text": [
      " incomplete. Neglected!\n",
      "Stoichiometry of species Tc1++ incomplete. Neglected!\n",
      "\n",
      "FastChem initialisation summary:\n",
      "  number of species: 938    elements: 80    molecules: 672    condensates: 186\n",
      "\n"
     ]
    },
    {
     "name": "stderr",
     "output_type": "stream",
     "text": [
      "100%|██████████| 6/6 [00:35<00:00,  5.91s/it]\n"
     ]
    },
    {
     "name": "stdout",
     "output_type": "stream",
     "text": [
      "Stoichiometry of species Tc1+ incomplete. Neglected!\n",
      "Stoichiometry of species Tc1- incomplete. Neglected!\n",
      "Stoichiometry of species Tc1++ incomplete. Neglected!\n",
      "\n",
      "FastChem initialisation summary:\n",
      "  number of species: 938    elements: 80    molecules: 672    condensates: 186\n",
      "\n"
     ]
    },
    {
     "name": "stderr",
     "output_type": "stream",
     "text": [
      "  0%|          | 0/6 [00:00<?, ?it/s]"
     ]
    },
    {
     "name": "stdout",
     "output_type": "stream",
     "text": [
      "Stoichiometry of species Tc1+ incomplete. Neglected!\n",
      "Stoichiometry of species Tc1- incomplete. Neglected!\n",
      "Stoichiometry of species Tc1++ incomplete. Neglected!\n",
      "\n",
      "FastChem initialisation summary:\n",
      "  number of species: 938    elements: 80    molecules: 672    condensates: 186\n",
      "\n"
     ]
    },
    {
     "name": "stderr",
     "output_type": "stream",
     "text": [
      " 17%|█▋        | 1/6 [00:07<00:36,  7.26s/it]"
     ]
    },
    {
     "name": "stdout",
     "output_type": "stream",
     "text": [
      "Stoichiometry of species Tc1+ incomplete. Neglected!\n",
      "Stoichiometry of species Tc1- incomplete. Neglected!\n"
     ]
    },
    {
     "name": "stderr",
     "output_type": "stream",
     "text": [
      " 33%|███▎      | 2/6 [00:11<00:22,  5.62s/it]"
     ]
    },
    {
     "name": "stdout",
     "output_type": "stream",
     "text": [
      "Stoichiometry of species Tc1++ incomplete. Neglected!\n",
      "\n",
      "FastChem initialisation summary:\n",
      "  number of species: 938    elements: 80    molecules: 672    condensates: 186\n",
      "\n"
     ]
    },
    {
     "name": "stderr",
     "output_type": "stream",
     "text": [
      " 50%|█████     | 3/6 [00:17<00:17,  5.72s/it]"
     ]
    },
    {
     "name": "stdout",
     "output_type": "stream",
     "text": [
      "Stoichiometry of species Tc1+ incomplete. Neglected!\n",
      "Stoichiometry of species Tc1- incomplete. Neglected!\n",
      "Stoichiometry of species Tc1++ incomplete. Neglected!\n",
      "\n",
      "FastChem initialisation summary:\n",
      "  number of species: 938    elements: 80    molecules: 672    condensates: 186\n",
      "\n"
     ]
    },
    {
     "name": "stderr",
     "output_type": "stream",
     "text": [
      " 67%|██████▋   | 4/6 [00:27<00:14,  7.41s/it]"
     ]
    },
    {
     "name": "stdout",
     "output_type": "stream",
     "text": [
      "Stoichiometry of species Tc1+ incomplete. Neglected!\n",
      "Stoichiometry of species Tc1- incomplete. Neglected!\n",
      "Stoichiometry of species Tc1++ incomplete. Neglected!\n",
      "\n",
      "FastChem initialisation summary:\n",
      "  number of species: 938    elements: 80    molecules: 672    condensates: 186\n",
      "\n",
      "Stoichiometry of species Tc1+ incomplete. Neglected!\n",
      "Stoichiometry of species Tc1- incomplete. Neglected!\n",
      "Stoichiometry of species Tc1++ incomplete. Neglected!\n",
      "\n",
      "FastChem initialisation summary:\n",
      "  number of species: 938    elements: 80    molecules: 672    condensates: 186\n",
      "\n"
     ]
    },
    {
     "name": "stderr",
     "output_type": "stream",
     "text": [
      "100%|██████████| 6/6 [00:45<00:00,  7.52s/it]\n"
     ]
    },
    {
     "name": "stdout",
     "output_type": "stream",
     "text": [
      "Stoichiometry of species Tc1+ incomplete. Neglected!\n",
      "Stoichiometry of species Tc1- incomplete. Neglected!\n",
      "Stoichiometry of species Tc1++ incomplete. Neglected!\n",
      "\n",
      "FastChem initialisation summary:\n",
      "  number of species: 938    elements: 80    molecules: 672    condensates: 186\n",
      "\n"
     ]
    },
    {
     "name": "stderr",
     "output_type": "stream",
     "text": [
      " 17%|█▋        | 1/6 [00:07<00:35,  7.06s/it]"
     ]
    },
    {
     "name": "stdout",
     "output_type": "stream",
     "text": [
      "Stoichiometry of species Tc1+ incomplete. Neglected!\n",
      "Stoichiometry of species Tc1- incomplete. Neglected!\n",
      "Stoichiometry of species Tc1++ incomplete. Neglected!\n",
      "\n",
      "FastChem initialisation summary:\n",
      "  number of species: 938    elements: 80    molecules: 672    condensates: 186\n",
      "\n"
     ]
    },
    {
     "name": "stderr",
     "output_type": "stream",
     "text": [
      " 33%|███▎      | 2/6 [00:13<00:26,  6.71s/it]"
     ]
    },
    {
     "name": "stdout",
     "output_type": "stream",
     "text": [
      "Stoichiometry of species Tc1+ incomplete. Neglected!\n",
      "Stoichiometry of species Tc1- incomplete. Neglected!\n",
      "Stoichiometry of species Tc1++ incomplete. Neglected!\n",
      "\n",
      "FastChem initialisation summary:\n",
      "  number of species: 938    elements: 80    molecules: 672    condensates: 186\n",
      "\n",
      "Stoichiometry of species Tc1+ incomplete. Neglected!\n",
      "Stoichiometry of species Tc1- incomplete. Neglected!\n"
     ]
    },
    {
     "name": "stderr",
     "output_type": "stream",
     "text": [
      " 50%|█████     | 3/6 [00:18<00:18,  6.10s/it]"
     ]
    },
    {
     "name": "stdout",
     "output_type": "stream",
     "text": [
      "Stoichiometry of species Tc1++ incomplete. Neglected!\n",
      "\n",
      "FastChem initialisation summary:\n",
      "  number of species: 938    elements: 80    molecules: 672    condensates: 186\n",
      "\n"
     ]
    },
    {
     "name": "stderr",
     "output_type": "stream",
     "text": [
      " 67%|██████▋   | 4/6 [00:27<00:14,  7.04s/it]"
     ]
    },
    {
     "name": "stdout",
     "output_type": "stream",
     "text": [
      "Stoichiometry of species Tc1+ incomplete. Neglected!\n",
      "Stoichiometry of species Tc1- incomplete. Neglected!\n",
      "Stoichiometry of species Tc1++ incomplete. Neglected!\n",
      "\n",
      "FastChem initialisation summary:\n",
      "  number of species: 938    elements: 80    molecules: 672    condensates: 186\n",
      "\n",
      "Stoichiometry of species Tc1+ incomplete. Neglected!\n",
      "Stoichiometry of species Tc1- incomplete. Neglected!\n",
      "Stoichiometry of species Tc1++ incomplete. Neglected!\n",
      "\n",
      "FastChem initialisation summary:\n",
      "  number of species: 938    elements: 80    molecules: 672    condensates: 186\n",
      "\n"
     ]
    },
    {
     "name": "stderr",
     "output_type": "stream",
     "text": [
      "100%|██████████| 6/6 [00:41<00:00,  6.98s/it]"
     ]
    },
    {
     "name": "stdout",
     "output_type": "stream",
     "text": [
      "Stoichiometry of species Tc1+ incomplete. Neglected!\n",
      "Stoichiometry of species Tc1- incomplete. Neglected!\n",
      "Stoichiometry of species Tc1++ incomplete. Neglected!\n",
      "\n",
      "FastChem initialisation summary:\n",
      "  number of species: 938    elements: 80    molecules: 672    condensates: 186\n",
      "\n"
     ]
    },
    {
     "name": "stderr",
     "output_type": "stream",
     "text": [
      "\n"
     ]
    }
   ],
   "source": [
    "#T_eff = np.arange(700, 2400+1e-6, 100)\n",
    "T_eff = np.arange(700, 2400+1e-6, 300)\n",
    "#T_eff = np.array([700,1000])\n",
    "\n",
    "VMR_tot = {'F': [], 'Fe': []}\n",
    "VMR  = {'F1H1': [], 'Fe': [], 'Fe1H1': [], 'Mg': [], 'Al1F1': [], 'Na': [], 'K': []}\n",
    "cond = {'Al2O3(s,l)': [], 'Al2SiO5(s)': [], 'KAlSi3O8(s)': [], 'NaAlSi3O8(s)': [], 'CH4(s,l)': []}\n",
    "P = []\n",
    "T = []\n",
    "\n",
    "for FeH_i in [-0.5,0.0,0.5]:\n",
    "#for FeH_i in [0.0]:\n",
    "    for T_eff_i in tqdm(T_eff):\n",
    "\n",
    "        # Read temperature profile\n",
    "        path = '/home/sam/Documents/PhD/fastchem_tests/SONORA_ElfOwl_PT/' + \\\n",
    "            'spectra_logzz_7.0_teff_{:.1f}_grav_1000.0_mh_{:.1f}_co_1.0.dat'.format(T_eff_i, FeH_i)\n",
    "            #'spectra_logzz_9.0_teff_{:.1f}_grav_1000.0_mh_0.0_co_1.0.dat'.format(T_eff_i)\n",
    "        pressure, temperature = np.loadtxt(path).T\n",
    "\n",
    "        # Compute the chemical equilibrium abundances\n",
    "        FC = FastChemistry(pressures=pressure)\n",
    "        #FC(T=temperature, CO=0.59, FeH=0.0)\n",
    "        FC(T=temperature, CO=0.45, FeH=FeH_i)\n",
    "\n",
    "        P.append(pressure)\n",
    "        #T.append(temperature)\n",
    "        T.append(FC.input.temperature[::-1])\n",
    "\n",
    "        for hill_i in VMR.keys():\n",
    "            VMR[hill_i].append(FC.get_VMR(hill_i))\n",
    "            #VMR[hill_i].append(FC.get_VMR(hill_i)/FC.get_VMR('H2O1'))\n",
    "        for hill_i in cond.keys():\n",
    "            cond[hill_i].append(FC.get_condensate_number_density(hill_i))\n",
    "\n",
    "        for element_i in VMR_tot.keys():\n",
    "            VMR_tot_i = FC.get_element_number_density(element_i) \\\n",
    "                / FC.gas_number_density_tot\n",
    "            VMR_tot[element_i].append(VMR_tot_i[::-1])\n",
    "        "
   ]
  },
  {
   "cell_type": "code",
   "execution_count": 114,
   "metadata": {},
   "outputs": [
    {
     "data": {
      "image/png": "[encoded data removed]",
      "text/plain": [
       "<Figure size 450x450 with 1 Axes>"
      ]
     },
     "metadata": {},
     "output_type": "display_data"
    }
   ],
   "source": [
    "color_species = {'HF':'#FF59B4', '12CO':'C2', 'H2O':'C3', 'NH3':'C8', 'CH4':'C4', 'H2S':'C1', 'FeH':'#00DBA8', 'Na':'C1'}\n",
    "cmap = plt.get_cmap('coolwarm')\n",
    "N = len(T_eff)\n",
    "\n",
    "fig = plt.figure(figsize=(4.5,4.5))\n",
    "#fig = plt.figure(figsize=(4,4))\n",
    "gs = fig.add_gridspec(\n",
    "    nrows=1, ncols=1, hspace=0.2, wspace=0.08, \n",
    ")\n",
    "ax = np.array([fig.add_subplot(gs[0,0])])\n",
    "\n",
    "for i, T_eff_i in enumerate(T_eff):\n",
    "    c = cmap((T_eff_i-T_eff.min())/(T_eff.max()-T_eff.min()))\n",
    "\n",
    "    ax[0].plot(VMR['F1H1'][i], P[i], c=c, lw=1)\n",
    "    ax[0].plot(VMR['F1H1'][i+N], P[i+N], c=c, label='{:.0f} K'.format(T_eff_i), lw=1.5)\n",
    "    ax[0].plot(VMR['F1H1'][i+2*N], P[i+2*N], c=c, lw=2)\n",
    "\n",
    "    #ax[0].plot(VMR['Fe1H1'][i+N], P[i+N], c=c, lw=1, ls=':')\n",
    "    ax[0].plot(VMR['Fe'][i+N], P[i+N], c=c, lw=0.7, ls=(0,(4.5,3)))\n",
    "    \n",
    "    #ax[0].plot(VMR['Na'][i+N], P[i+N], c=c, lw=0.7, ls=(0,(4.5,3)))\n",
    "    #ax[0].plot(VMR['K'][i+N], P[i+N], c=c, lw=1, ls='-.')\n",
    "    #ax[0].plot(VMR['Mg'][i+N], P[i+N], c=c, lw=1, ls=':')\n",
    "    \n",
    "    #ax[0].plot(VMR['Al1F1'][i+N], P[i+N], c=c, ls=':')\n",
    "\n",
    "'''\n",
    "color_A = '#FF622E'; color_B = '#396ED8'\n",
    "for VMR_posterior_i, P_i, color_i in zip([VMR_posterior_A, VMR_posterior_B], [1,1.4], [color_A, color_B]):\n",
    "    x = np.median(VMR_posterior_i['HF'][:,0])\n",
    "    #xerr = np.quantile(VMR_posterior_i['HF'][:,0], q=q[[2,4]]) - x\n",
    "    xerr = np.quantile(VMR_posterior_i['HF'][:,0], q=q[[0,-1]]) - x\n",
    "    xerr = np.abs(xerr)[:,None]\n",
    "    ax[0].errorbar(x=x, y=P_i, xerr=xerr, fmt='.', c=color_i, markersize=6, lw=1.5, capthick=1.5, capsize=2)\n",
    "'''\n",
    "\n",
    "ann_kwargs = dict(\n",
    "    xycoords=ax[0].get_xaxis_transform(), \n",
    "    ha='center', va='bottom', c=color_species['HF'], \n",
    "    fontsize=11, fontweight='bold', \n",
    ")\n",
    "\n",
    "xticks = []\n",
    "for VMR_i, label_i, lw_i in zip(np.array(VMR_tot['F'])[[0,N,2*N],-1], [r'$-0.5$',''r'$0$',r'$+0.5$'], [1,1.5,2]):\n",
    "    ax[0].axvline(VMR_i, c=color_species['HF'], lw=lw_i, ls=(0,(4,2)), zorder=-1)\n",
    "    ax[0].axvline(VMR_i, ymin=1, ymax=1.01, clip_on=False, c=color_species['HF'], lw=lw_i, zorder=-1)\n",
    "    ax[0].annotate(label_i, xy=(VMR_i, 1.01), **ann_kwargs)\n",
    "ax[0].annotate(r'$\\mathrm{[F/H]}$', xy=(VMR_tot['F'][N][-1], 1.07), **ann_kwargs)\n",
    "\n",
    "#ax[0].axvline(VMR_tot['Fe'][N][-1], c=color_species['FeH'], lw=1, ls=(0,(4,2)), zorder=-1)\n",
    "\n",
    "ann_kwargs['fontsize'] = 14\n",
    "ann_kwargs['path_effects'] = [pe.withStroke(linewidth=5, foreground='w', alpha=0.9)]\n",
    "ax[0].annotate('HF', xy=(VMR['F1H1'][N][0], 0.6), clip_on=True, **ann_kwargs)\n",
    "\n",
    "ann_kwargs['c'] = color_species['FeH']\n",
    "ax[0].annotate('Fe', xy=(VMR['Fe'][N][-5], 0.2), clip_on=True, **ann_kwargs)\n",
    "\n",
    "#ann_kwargs['c'] = color_species['Na']\n",
    "#ax[0].annotate('Na', xy=(VMR['Na'][N][69], 0.5), clip_on=True, **ann_kwargs)\n",
    "\n",
    "ax[0].legend(\n",
    "    loc='upper right', bbox_to_anchor=(1,1), ncols=2, edgecolor='none', \n",
    "    columnspacing=1.2, handlelength=0.6, handletextpad=0.4, handleheight=0.3, \n",
    "    labelcolor='linecolor', prop={'size':11}, \n",
    "    title=r'${\\bf T_{eff}}$', title_fontsize=12,\n",
    ")\n",
    "ax[0].set(\n",
    "    xscale='log', yscale='log', ylim=(1e3,1e-5), xlim=(3e-9,8e-5), \n",
    "    #xlim=(5e-9,3e-6), \n",
    "    xlabel='VMR', ylabel=r'$P\\ (\\mathrm{bar})$'\n",
    ")\n",
    "\n",
    "plt.subplots_adjust(left=0.17, bottom=0.12, top=0.88, right=0.97)\n",
    "plt.savefig('./plots/HF_VMR.pdf')\n",
    "plt.show()"
   ]
  },
  {
   "cell_type": "code",
   "execution_count": 62,
   "metadata": {},
   "outputs": [],
   "source": [
    "contr_A = np.load(f'{Res_A.prefix}data/bestfit_int_contr_em_{Res_A.m_set}.npy')\n",
    "contr_B = np.load(f'{Res_B.prefix}data/bestfit_int_contr_em_{Res_B.m_set}.npy')"
   ]
  },
  {
   "cell_type": "code",
   "execution_count": 67,
   "metadata": {},
   "outputs": [
    {
     "data": {
      "text/plain": [
       "(33, 33)"
      ]
     },
     "execution_count": 67,
     "metadata": {},
     "output_type": "execute_result"
    }
   ],
   "source": [
    "np.argmax(contr_A), np.argmax(contr_B)"
   ]
  },
  {
   "cell_type": "code",
   "execution_count": 26,
   "metadata": {},
   "outputs": [
    {
     "name": "stdout",
     "output_type": "stream",
     "text": [
      "  analysing data from ../retrieval_outputs/new_fiducial_K_A_ret_9/test_.txt\n",
      "['modes', 'nested sampling global log-evidence', 'nested sampling global log-evidence error', 'global evidence', 'global evidence error', 'nested importance sampling global log-evidence', 'nested importance sampling global log-evidence error', 'marginals']\n",
      "999299.4634225854\n",
      "999271.5748447548\n",
      "999271.5748447548\n",
      "  analysing data from ../retrieval_outputs/new_fiducial_K_B_ret_6/test_.txt\n",
      "['modes', 'nested sampling global log-evidence', 'nested sampling global log-evidence error', 'global evidence', 'global evidence error', 'nested importance sampling global log-evidence', 'nested importance sampling global log-evidence error', 'marginals']\n",
      "1008102.5003663264\n",
      "1008080.2585288256\n",
      "1008080.2585288256\n"
     ]
    }
   ],
   "source": [
    "import utils\n",
    "\n",
    "Res_A = utils.RetrievalResults(\n",
    "    prefix='../retrieval_outputs/new_fiducial_K_A_ret_9/test_', \n",
    "    m_set='K2166_A', w_set='K2166', load_posterior=True\n",
    "    )\n",
    "Res_B = utils.RetrievalResults(\n",
    "    prefix='../retrieval_outputs/new_fiducial_K_B_ret_6/test_', \n",
    "    m_set='K2166_B', w_set='K2166', load_posterior=True\n",
    "    )"
   ]
  },
  {
   "cell_type": "code",
   "execution_count": 27,
   "metadata": {},
   "outputs": [],
   "source": [
    "Chem_A = Res_A._load_object('Chem')\n",
    "VMR_posterior_A = utils.convert_mf_dict_to_VMR_dict(Chem_A, relative_to_key=None)\n",
    "\n",
    "Chem_B = Res_B._load_object('Chem')\n",
    "VMR_posterior_B = utils.convert_mf_dict_to_VMR_dict(Chem_B, relative_to_key=None)"
   ]
  },
  {
   "cell_type": "code",
   "execution_count": 22,
   "metadata": {},
   "outputs": [
    {
     "data": {
      "image/png": "[encoded data removed]",
      "text/plain": [
       "<Figure size 640x480 with 1 Axes>"
      ]
     },
     "metadata": {},
     "output_type": "display_data"
    }
   ],
   "source": [
    "q = np.array([\n",
    "    0.5-0.997/2, 0.5-0.95/2, 0.5-0.68/2, 0.5, \n",
    "    0.5+0.68/2, 0.5+0.95/2, 0.5+0.997/2\n",
    "    ])\n",
    "\n",
    "x = np.median(VMR_posterior_A['HF'][:,0])\n",
    "#xerr = np.quantile(VMR_posterior_A['HF'][:,0], q=q[[2,4]]) - x\n",
    "xerr = np.quantile(VMR_posterior_A['HF'][:,0], q=q[[0,-1]]) - x\n",
    "xerr = np.abs(xerr)[:,None]\n",
    "\n",
    "plt.errorbar(x=x, y=0.5, xerr=xerr, fmt='')\n",
    "plt.xlim(1e-9,1e-4)\n",
    "plt.xscale('log')\n",
    "plt.show()"
   ]
  }
 ],
 "metadata": {
  "kernelspec": {
   "display_name": "crires_venv",
   "language": "python",
   "name": "python3"
  },
  "language_info": {
   "codemirror_mode": {
    "name": "ipython",
    "version": 3
   },
   "file_extension": ".py",
   "mimetype": "text/x-python",
   "name": "python",
   "nbconvert_exporter": "python",
   "pygments_lexer": "ipython3",
   "version": "3.10.12"
  }
 },
 "nbformat": 4,
 "nbformat_minor": 2
}
