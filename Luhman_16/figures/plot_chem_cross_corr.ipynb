{
 "cells": [
  {
   "cell_type": "code",
   "execution_count": null,
   "metadata": {},
   "outputs": [],
   "source": [
    "import numpy as np\n",
    "\n",
    "import matplotlib as mpl\n",
    "import matplotlib.pyplot as plt\n",
    "\n",
    "import utils"
   ]
  },
  {
   "cell_type": "code",
   "execution_count": null,
   "metadata": {},
   "outputs": [],
   "source": [
    "prefixes = [\n",
    "    '../retrieval_outputs/no_bands_K_B_ret_6/test_', \n",
    "    '../retrieval_outputs/eq_band_K_B_ret_2/test_', \n",
    "    '../retrieval_outputs/spot_K_B_ret_19/test_', \n",
    "    ]\n",
    "\n",
    "CCF_species = [{\n",
    "    'complete': None, \n",
    "    'H2O': 'H2O_pokazatel_main_iso', \n",
    "    'CO': 'CO_main_iso', \n",
    "    'CH4': 'CH4_hargreaves_main_iso', \n",
    "    'NH3': 'NH3_coles_main_iso', \n",
    "    }]*len(prefixes)\n",
    "\n",
    "for i, prefix_i in enumerate(prefixes):\n",
    "\n",
    "    Res_i = utils.RetrievalResults(prefix=prefix_i)\n",
    "\n",
    "    for key_j, line_species_j in CCF_species[i].items():\n",
    "\n",
    "        print(f'{i} | {key_j}')\n",
    "\n",
    "        flux_global = None\n",
    "        subtract_global = False\n",
    "\n",
    "        if line_species_j is None:\n",
    "            # Get the global model spectrum\n",
    "            _, flux_global, _ = Res_i.get_model_spec(is_local=False)\n",
    "            subtract_global = True\n",
    "\n",
    "        # Template spectrum of one species\n",
    "        wave_local, flux_local, _ = Res_i.get_model_spec(\n",
    "            is_local=True, line_species=line_species_j\n",
    "            )\n",
    "        # Compute cross-correlation\n",
    "        rv, _, CCF_SNR = Res_i.get_CCF(\n",
    "            wave_local, flux_local, flux_global, subtract_global=subtract_global, \n",
    "            )\n",
    "        CCF_species[i][key_j] = CCF_SNR\n",
    "\n",
    "        del wave_local, flux_local, flux_global"
   ]
  }
 ],
 "metadata": {
  "kernelspec": {
   "display_name": "crires_venv",
   "language": "python",
   "name": "python3"
  },
  "language_info": {
   "codemirror_mode": {
    "name": "ipython",
    "version": 3
   },
   "file_extension": ".py",
   "mimetype": "text/x-python",
   "name": "python",
   "nbconvert_exporter": "python",
   "pygments_lexer": "ipython3",
   "version": "3.10.12"
  }
 },
 "nbformat": 4,
 "nbformat_minor": 2
}
