{
 "cells": [
  {
   "cell_type": "code",
   "execution_count": 2,
   "metadata": {},
   "outputs": [],
   "source": [
    "import numpy as np\n",
    "from scipy.special import lambertw as W\n",
    "from scipy.special import erfcinv\n",
    "\n",
    "def Z_to_sigma(ln_Z1, ln_Z2):\n",
    "    '''Convert log-evidences of two models to a sigma confidence level'''\n",
    "    #np.set_printoptions(precision=50)\n",
    "    B = np.exp(ln_Z1 - ln_Z2)\n",
    "    p = np.real(np.exp(W((-1.0/(B*np.exp(1))),-1)))\n",
    "    sigma = np.sqrt(2)*erfcinv(p)\n",
    "    #print \"p-value = \", p\n",
    "    #print \"n_sigma = \", sigma\n",
    "    print(ln_Z1-ln_Z2)\n",
    "    return B, sigma"
   ]
  },
  {
   "cell_type": "code",
   "execution_count": 4,
   "metadata": {},
   "outputs": [
    {
     "name": "stdout",
     "output_type": "stream",
     "text": [
      "29.99035929562524\n"
     ]
    },
    {
     "data": {
      "text/plain": [
       "(10583944464670.346, 8.026058221984561)"
      ]
     },
     "execution_count": 4,
     "metadata": {},
     "output_type": "execute_result"
    }
   ],
   "source": [
    "ref = 0.111428771481441939E+07\n",
    "Z_to_sigma(0.111431770517371502E+07, ref)"
   ]
  },
  {
   "cell_type": "code",
   "execution_count": 8,
   "metadata": {},
   "outputs": [
    {
     "name": "stdout",
     "output_type": "stream",
     "text": [
      "-0.7424283290747553\n",
      "(0.4759567315084341, 1.1800679133017498) \n",
      "\n",
      "4.943492065183818\n",
      "(140.2591895905883, 3.593084600399843) \n",
      "\n",
      "415.8595274137333\n",
      "(4.031790922174217e+180, 28.95906819346621) \n",
      "\n",
      "263.2987400626298\n",
      "(2.2345490967884168e+114, 23.08808369813444) \n",
      "\n",
      "29.116465417202562\n",
      "(4416927423365.829, 7.914801875704641) \n",
      "\n",
      "2.44928961712867\n",
      "(11.58011747950856, 2.733744063885033) \n",
      "\n",
      "314.97657774807885\n",
      "(6.202826658952209e+136, 25.230732640657866) \n",
      "\n"
     ]
    }
   ],
   "source": [
    "# Nominal\n",
    "ref = 0.114840334497538814E+07\n",
    "\n",
    "# Nominal repeat\n",
    "val = 0.114840408740371722E+07\n",
    "print(Z_to_sigma(ref, val), '\\n')\n",
    "###\n",
    "#ref = val\n",
    "###\n",
    "\n",
    "# Dis-eq. chem. with Pquench\n",
    "val = 0.114839840148332296E+07\n",
    "print(Z_to_sigma(ref, val), '\\n')\n",
    "\n",
    "# Eq. chem. w/o Pquench\n",
    "val = 0.114798748544797441E+07\n",
    "print(Z_to_sigma(ref, val), '\\n')\n",
    "\n",
    "# w/o CH4\n",
    "val = 0.114814004623532551E+07\n",
    "print(Z_to_sigma(ref, val), '\\n')\n",
    "\n",
    "# w/o NH3\n",
    "val = 0.114837422850997094E+07\n",
    "print(Z_to_sigma(ref, val), '\\n')\n",
    "\n",
    "# w/o 13CO\n",
    "val = 0.114840089568577101E+07\n",
    "print(Z_to_sigma(ref, val), '\\n')\n",
    "\n",
    "# HITEMP H2O line list\n",
    "val = 0.114808836839764006E+07\n",
    "print(Z_to_sigma(ref, val), '\\n')"
   ]
  },
  {
   "cell_type": "code",
   "execution_count": 3,
   "metadata": {},
   "outputs": [
    {
     "name": "stdout",
     "output_type": "stream",
     "text": [
      "410.9160353485495\n",
      "(2.8745288875138053e+178, 28.78765219861722)\n"
     ]
    }
   ],
   "source": [
    "# Dis-eq. chem. with Pquench\n",
    "ref = 0.114839840148332296E+07\n",
    "\n",
    "# Eq. chem. w/o Pquench\n",
    "val = 0.114798748544797441E+07\n",
    "print(Z_to_sigma(ref, val))"
   ]
  }
 ],
 "metadata": {
  "kernelspec": {
   "display_name": "crires_venv",
   "language": "python",
   "name": "python3"
  },
  "language_info": {
   "codemirror_mode": {
    "name": "ipython",
    "version": 3
   },
   "file_extension": ".py",
   "mimetype": "text/x-python",
   "name": "python",
   "nbconvert_exporter": "python",
   "pygments_lexer": "ipython3",
   "version": "3.10.12"
  },
  "orig_nbformat": 4
 },
 "nbformat": 4,
 "nbformat_minor": 2
}
